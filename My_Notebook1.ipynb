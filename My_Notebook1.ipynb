{
 "cells": [
  {
   "cell_type": "markdown",
   "id": "9277f480-5811-41e1-81c0-97e5b5a372bc",
   "metadata": {},
   "source": [
    "### **My First Program**"
   ]
  },
  {
   "cell_type": "code",
   "execution_count": 1,
   "id": "b9678dc9-dc6b-4769-bdc0-d4bbcb420935",
   "metadata": {},
   "outputs": [
    {
     "name": "stdout",
     "output_type": "stream",
     "text": [
      "5\n",
      "25\n"
     ]
    }
   ],
   "source": [
    "    x = min(5, 10, 25)\n",
    "    y = max(5, 10, 25)\n",
    "    print(x)\n",
    "    print(y)"
   ]
  },
  {
   "cell_type": "code",
   "execution_count": 3,
   "id": "8da6406f-22da-4138-951d-bd6130988cbd",
   "metadata": {},
   "outputs": [
    {
     "name": "stdout",
     "output_type": "stream",
     "text": [
      "64\n"
     ]
    }
   ],
   "source": [
    "    x = pow(4, 3)\n",
    "    print(x)"
   ]
  },
  {
   "cell_type": "code",
   "execution_count": null,
   "id": "a947235a-8bf5-4819-9704-fda8799147b2",
   "metadata": {},
   "outputs": [],
   "source": []
  }
 ],
 "metadata": {
  "kernelspec": {
   "display_name": "Python 3 (ipykernel)",
   "language": "python",
   "name": "python3"
  },
  "language_info": {
   "codemirror_mode": {
    "name": "ipython",
    "version": 3
   },
   "file_extension": ".py",
   "mimetype": "text/x-python",
   "name": "python",
   "nbconvert_exporter": "python",
   "pygments_lexer": "ipython3",
   "version": "3.11.7"
  }
 },
 "nbformat": 4,
 "nbformat_minor": 5
}
